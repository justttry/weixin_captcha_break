{
 "cells": [
  {
   "cell_type": "code",
   "execution_count": 1,
   "metadata": {
    "collapsed": false
   },
   "outputs": [
    {
     "name": "stderr",
     "output_type": "stream",
     "text": [
      "Using TensorFlow backend.\n"
     ]
    }
   ],
   "source": [
    "from keras.models import load_model\n",
    "from generator import captcha_generator as gen\n",
    "import string\n",
    "from tqdm import tqdm\n",
    "import numpy as np\n",
    "from matplotlib import pyplot as plt\n",
    "import cv2"
   ]
  },
  {
   "cell_type": "code",
   "execution_count": null,
   "metadata": {
    "collapsed": false
   },
   "outputs": [],
   "source": [
    "chars = string.ascii_lowercase + string.ascii_uppercase\n",
    "width, height, n_len, n_class = 130, 53, 4, len(chars)"
   ]
  },
  {
   "cell_type": "code",
   "execution_count": null,
   "metadata": {
    "collapsed": false
   },
   "outputs": [],
   "source": [
    "model = load_model('weixin_trained_model.h5')"
   ]
  },
  {
   "cell_type": "code",
   "execution_count": null,
   "metadata": {
    "collapsed": true
   },
   "outputs": [],
   "source": [
    "def decode(y):\n",
    "    y = np.argmax(np.array(y), axis=2)[:,0]\n",
    "    return ''.join([chars[x] for x in y])"
   ]
  },
  {
   "cell_type": "code",
   "execution_count": null,
   "metadata": {
    "collapsed": true
   },
   "outputs": [],
   "source": [
    "def evaluate(model, batch_num=20):\n",
    "    batch_acc = 0\n",
    "    generator = gen(width=width, height=height)\n",
    "    for i in tqdm(range(batch_num)):\n",
    "        X, y = generator.next()\n",
    "        y_pred = model.predict(X)\n",
    "        batch_acc += np.mean(map(np.array_equal, np.argmax(y, axis=2).T, np.argmax(y_pred, axis=2).T))\n",
    "    return batch_acc / batch_num"
   ]
  },
  {
   "cell_type": "code",
   "execution_count": 27,
   "metadata": {
    "collapsed": true
   },
   "outputs": [
    {
     "name": "stderr",
     "output_type": "stream",
     "text": [
      "\n",
      "  0%|          | 0/20 [00:00<?, ?it/s]\u001b[A\n",
      "  5%|▌         | 1/20 [00:00<00:07,  2.52it/s]\u001b[A\n",
      " 10%|█         | 2/20 [00:00<00:07,  2.53it/s]\u001b[A\n",
      " 15%|█▌        | 3/20 [00:01<00:06,  2.52it/s]\u001b[A\n",
      " 20%|██        | 4/20 [00:01<00:06,  2.51it/s]\u001b[A\n",
      " 25%|██▌       | 5/20 [00:01<00:06,  2.50it/s]\u001b[A\n",
      " 30%|███       | 6/20 [00:02<00:05,  2.51it/s]\u001b[A\n",
      " 35%|███▌      | 7/20 [00:02<00:05,  2.51it/s]\u001b[A\n",
      " 40%|████      | 8/20 [00:03<00:04,  2.51it/s]\u001b[A\n",
      " 45%|████▌     | 9/20 [00:03<00:04,  2.52it/s]\u001b[A\n",
      " 50%|█████     | 10/20 [00:03<00:03,  2.51it/s]\u001b[A\n",
      " 55%|█████▌    | 11/20 [00:04<00:03,  2.51it/s]\u001b[A\n",
      " 60%|██████    | 12/20 [00:04<00:03,  2.51it/s]\u001b[A\n",
      " 65%|██████▌   | 13/20 [00:05<00:02,  2.51it/s]\u001b[A\n",
      " 70%|███████   | 14/20 [00:05<00:02,  2.52it/s]\u001b[A\n",
      " 75%|███████▌  | 15/20 [00:05<00:01,  2.51it/s]\u001b[A\n",
      " 80%|████████  | 16/20 [00:06<00:01,  2.51it/s]\u001b[A\n",
      " 85%|████████▌ | 17/20 [00:06<00:01,  2.52it/s]\u001b[A\n",
      " 90%|█████████ | 18/20 [00:07<00:00,  2.51it/s]\u001b[A\n",
      " 95%|█████████▌| 19/20 [00:07<00:00,  2.53it/s]\u001b[A\n",
      "\n",
      "100%|██████████| 20/20 [00:07<00:00,  2.53it/s]"
     ]
    },
    {
     "name": "stdout",
     "output_type": "stream",
     "text": [
      "0.11328125\n"
     ]
    },
    {
     "name": "stderr",
     "output_type": "stream",
     "text": [
      "\u001b[A\n",
      "\u001b[A"
     ]
    }
   ],
   "source": [
    "print evaluate(model)"
   ]
  },
  {
   "cell_type": "code",
   "execution_count": null,
   "metadata": {
    "collapsed": true
   },
   "outputs": [],
   "source": [
    "generator = gen(width=width, height=height, batch_size=1)"
   ]
  },
  {
   "cell_type": "code",
   "execution_count": null,
   "metadata": {
    "collapsed": true
   },
   "outputs": [],
   "source": [
    "X, y = generator.next()"
   ]
  },
  {
   "cell_type": "code",
   "execution_count": null,
   "metadata": {
    "collapsed": false
   },
   "outputs": [],
   "source": [
    "X.shape\n",
    "decode(y)"
   ]
  },
  {
   "cell_type": "code",
   "execution_count": 109,
   "metadata": {
    "collapsed": true
   },
   "outputs": [],
   "source": [
    "def yevaluate(model, cnt=1000):\n",
    "    batch_acc = 0\n",
    "    generator = gen(width=width, height=height, batch_size=1)\n",
    "    for _ in tqdm(range(cnt)):\n",
    "        X, y = generator.next()\n",
    "        y_pred = model.predict(X)\n",
    "        if decode(y).lower() == decode(y_pred).lower():\n",
    "            batch_acc += 1\n",
    "    return float(batch_acc) / cnt"
   ]
  },
  {
   "cell_type": "code",
   "execution_count": 112,
   "metadata": {
    "collapsed": false
   },
   "outputs": [
    {
     "name": "stderr",
     "output_type": "stream",
     "text": [
      "100%|██████████| 10000/10000 [01:45<00:00, 94.96it/s]"
     ]
    },
    {
     "name": "stdout",
     "output_type": "stream",
     "text": [
      "0.9946\n"
     ]
    },
    {
     "name": "stderr",
     "output_type": "stream",
     "text": [
      "\n"
     ]
    }
   ],
   "source": [
    "print yevaluate(model, 10000)"
   ]
  },
  {
   "cell_type": "markdown",
   "metadata": {},
   "source": [
    "# 生成函数测试"
   ]
  },
  {
   "cell_type": "code",
   "execution_count": null,
   "metadata": {
    "collapsed": false
   },
   "outputs": [],
   "source": [
    "a = gen(width=width, height=height, batch_size=1)\n",
    "X, y = a.next()\n",
    "pred_y = model.predict(X)\n",
    "plt.imshow(cv2.cvtColor(X[0], cv2.COLOR_BGR2RGB))\n",
    "plt.show()\n",
    "print 'y:', decode(y)\n",
    "print 'pred_y:', decode(pred_y)"
   ]
  },
  {
   "cell_type": "markdown",
   "metadata": {},
   "source": [
    "# 实测"
   ]
  },
  {
   "cell_type": "code",
   "execution_count": 73,
   "metadata": {
    "collapsed": false
   },
   "outputs": [],
   "source": [
    "test_path = os.getcwd() + '/sample'\n",
    "root, dirs, files = os.walk(test_path).next()\n",
    "\n",
    "def getAllImages(path):\n",
    "    cnt = len(files)\n",
    "    X = np.zeros((cnt, height, width, 3), dtype=np.uint8)\n",
    "    y = []\n",
    "    for i, j in enumerate(files):\n",
    "        #X[i] = cv2.imread(root+'/'+j)\n",
    "        img = cv2.imread(root+'/'+j)\n",
    "        X[i] = img\n",
    "        y.append(j[:4])\n",
    "    return X, y\n",
    "\n",
    "allX, ally = getAllImages(test_path)"
   ]
  },
  {
   "cell_type": "code",
   "execution_count": 81,
   "metadata": {
    "collapsed": false,
    "scrolled": true
   },
   "outputs": [],
   "source": [
    "pred_y = model.predict(allX[2].reshape(X.shape))"
   ]
  },
  {
   "cell_type": "code",
   "execution_count": 82,
   "metadata": {
    "collapsed": false
   },
   "outputs": [
    {
     "data": {
      "text/plain": [
       "'nwHV'"
      ]
     },
     "execution_count": 82,
     "metadata": {},
     "output_type": "execute_result"
    }
   ],
   "source": [
    "decode(pred_y)"
   ]
  },
  {
   "cell_type": "code",
   "execution_count": 123,
   "metadata": {
    "collapsed": false
   },
   "outputs": [
    {
     "data": {
      "image/png": "[encoded data removed]",
      "text/plain": [
       "<matplotlib.figure.Figure at 0x7f29905f9290>"
      ]
     },
     "metadata": {},
     "output_type": "display_data"
    }
   ],
   "source": [
    "plt.imshow(cv2.cvtColor(allX[6], cv2.COLOR_BGR2RGB))\n",
    "plt.show()"
   ]
  },
  {
   "cell_type": "code",
   "execution_count": 91,
   "metadata": {
    "collapsed": false
   },
   "outputs": [
    {
     "data": {
      "text/plain": [
       "'febe'"
      ]
     },
     "execution_count": 91,
     "metadata": {},
     "output_type": "execute_result"
    }
   ],
   "source": [
    "al = ally[0]\n",
    "al.lower()"
   ]
  },
  {
   "cell_type": "code",
   "execution_count": 103,
   "metadata": {
    "collapsed": false
   },
   "outputs": [
    {
     "name": "stdout",
     "output_type": "stream",
     "text": [
      "the total correct number is 146\n",
      "the right rate is 14.96%\n"
     ]
    }
   ],
   "source": [
    "count = len(ally)\n",
    "correct = 0\n",
    "for i, j in zip(allX, ally):\n",
    "    predy = model.predict(i.reshape(X.shape))\n",
    "    predy = decode(predy)\n",
    "    if predy.lower() == j.lower():\n",
    "        correct += 1\n",
    "print 'the total correct number is %d' %correct\n",
    "print 'the right rate is %.2f%%' %(float(correct)/count*100)"
   ]
  },
  {
   "cell_type": "code",
   "execution_count": null,
   "metadata": {
    "collapsed": true
   },
   "outputs": [],
   "source": []
  }
 ],
 "metadata": {
  "kernelspec": {
   "display_name": "Python 2",
   "language": "python",
   "name": "python2"
  },
  "language_info": {
   "codemirror_mode": {
    "name": "ipython",
    "version": 2
   },
   "file_extension": ".py",
   "mimetype": "text/x-python",
   "name": "python",
   "nbconvert_exporter": "python",
   "pygments_lexer": "ipython2",
   "version": "2.7.13"
  }
 },
 "nbformat": 4,
 "nbformat_minor": 2
}
