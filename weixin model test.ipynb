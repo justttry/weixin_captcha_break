{
 "cells": [
  {
   "cell_type": "code",
   "execution_count": 1,
   "metadata": {
    "collapsed": false
   },
   "outputs": [
    {
     "name": "stderr",
     "output_type": "stream",
     "text": [
      "Using TensorFlow backend.\n"
     ]
    }
   ],
   "source": [
    "from keras.models import load_model\n",
    "from generator import captcha_generator as gen\n",
    "import string\n",
    "from tqdm import tqdm\n",
    "import numpy as np\n",
    "from matplotlib import pyplot as plt\n",
    "import cv2"
   ]
  },
  {
   "cell_type": "code",
   "execution_count": 2,
   "metadata": {
    "collapsed": false
   },
   "outputs": [],
   "source": [
    "chars = string.ascii_lowercase + string.ascii_uppercase\n",
    "width, height, n_len, n_class = 130, 53, 4, len(chars)"
   ]
  },
  {
   "cell_type": "code",
   "execution_count": 3,
   "metadata": {
    "collapsed": false
   },
   "outputs": [
    {
     "name": "stderr",
     "output_type": "stream",
     "text": [
      "/home/ubuntu/anaconda2/lib/python2.7/site-packages/keras/models.py:248: UserWarning: No training configuration found in save file: the model was *not* compiled. Compile it manually.\n",
      "  warnings.warn('No training configuration found in save file: '\n"
     ]
    }
   ],
   "source": [
    "model = load_model('weixin_trained_model.h5')"
   ]
  },
  {
   "cell_type": "code",
   "execution_count": 4,
   "metadata": {
    "collapsed": true
   },
   "outputs": [],
   "source": [
    "def decode(y):\n",
    "    y = np.argmax(np.array(y), axis=2)[:,0]\n",
    "    return ''.join([chars[x] for x in y])"
   ]
  },
  {
   "cell_type": "code",
   "execution_count": 5,
   "metadata": {
    "collapsed": true
   },
   "outputs": [],
   "source": [
    "def evaluate(model, batch_num=20):\n",
    "    batch_acc = 0\n",
    "    generator = gen(width=width, height=height)\n",
    "    for i in tqdm(range(batch_num)):\n",
    "        X, y = generator.next()\n",
    "        y_pred = model.predict(X)\n",
    "        batch_acc += np.mean(map(np.array_equal, np.argmax(y, axis=2).T, np.argmax(y_pred, axis=2).T))\n",
    "    return batch_acc / batch_num"
   ]
  },
  {
   "cell_type": "code",
   "execution_count": 6,
   "metadata": {
    "collapsed": false
   },
   "outputs": [
    {
     "name": "stderr",
     "output_type": "stream",
     "text": [
      "100%|██████████| 20/20 [00:08<00:00,  2.52it/s]"
     ]
    },
    {
     "name": "stdout",
     "output_type": "stream",
     "text": [
      "0.1078125\n"
     ]
    },
    {
     "name": "stderr",
     "output_type": "stream",
     "text": [
      "\n"
     ]
    }
   ],
   "source": [
    "print evaluate(model)"
   ]
  },
  {
   "cell_type": "code",
   "execution_count": 6,
   "metadata": {
    "collapsed": true
   },
   "outputs": [],
   "source": [
    "generator = gen(width=width, height=height, batch_size=1)"
   ]
  },
  {
   "cell_type": "code",
   "execution_count": 7,
   "metadata": {
    "collapsed": true
   },
   "outputs": [],
   "source": [
    "X, y = generator.next()"
   ]
  },
  {
   "cell_type": "code",
   "execution_count": 8,
   "metadata": {
    "collapsed": false
   },
   "outputs": [
    {
     "data": {
      "text/plain": [
       "'jNUE'"
      ]
     },
     "execution_count": 8,
     "metadata": {},
     "output_type": "execute_result"
    }
   ],
   "source": [
    "X.shape\n",
    "decode(y)"
   ]
  },
  {
   "cell_type": "code",
   "execution_count": 109,
   "metadata": {
    "collapsed": true
   },
   "outputs": [],
   "source": [
    "def yevaluate(model, cnt=1000):\n",
    "    batch_acc = 0\n",
    "    generator = gen(width=width, height=height, batch_size=1)\n",
    "    for _ in tqdm(range(cnt)):\n",
    "        X, y = generator.next()\n",
    "        y_pred = model.predict(X)\n",
    "        if decode(y).lower() == decode(y_pred).lower():\n",
    "            batch_acc += 1\n",
    "    return float(batch_acc) / cnt"
   ]
  },
  {
   "cell_type": "code",
   "execution_count": 112,
   "metadata": {
    "collapsed": false
   },
   "outputs": [
    {
     "name": "stderr",
     "output_type": "stream",
     "text": [
      "100%|██████████| 10000/10000 [01:45<00:00, 94.96it/s]"
     ]
    },
    {
     "name": "stdout",
     "output_type": "stream",
     "text": [
      "0.9946\n"
     ]
    },
    {
     "name": "stderr",
     "output_type": "stream",
     "text": [
      "\n"
     ]
    }
   ],
   "source": [
    "print yevaluate(model, 10000)"
   ]
  },
  {
   "cell_type": "markdown",
   "metadata": {},
   "source": [
    "# 生成函数测试"
   ]
  },
  {
   "cell_type": "code",
   "execution_count": 6,
   "metadata": {
    "collapsed": false,
    "scrolled": true
   },
   "outputs": [
    {
     "data": {
      "image/png": "[encoded data removed]",
      "text/plain": [
       "<matplotlib.figure.Figure at 0x7f4146171350>"
      ]
     },
     "metadata": {},
     "output_type": "display_data"
    },
    {
     "name": "stdout",
     "output_type": "stream",
     "text": [
      "y: tMVt\n",
      "pred_y: TmvT\n"
     ]
    }
   ],
   "source": [
    "a = gen(width=width, height=height, batch_size=1)\n",
    "X, y = a.next()\n",
    "pred_y = model.predict(X)\n",
    "plt.imshow(cv2.cvtColor(X[0], cv2.COLOR_BGR2RGB))\n",
    "plt.show()\n",
    "print 'y:', decode(y)\n",
    "print 'pred_y:', decode(pred_y)"
   ]
  },
  {
   "cell_type": "code",
   "execution_count": 17,
   "metadata": {
    "collapsed": false
   },
   "outputs": [
    {
     "data": {
      "text/plain": [
       "array([[[[ 84, 131, 185],\n",
       "         [ 75, 124, 183],\n",
       "         [ 66, 118, 180],\n",
       "         [ 56, 110, 176],\n",
       "         [ 38,  98, 170],\n",
       "         [177, 202, 229],\n",
       "         [237, 247, 254]],\n",
       "\n",
       "        [[ 34,  95, 169],\n",
       "         [ 34,  95, 169],\n",
       "         [ 34,  95, 169],\n",
       "         [ 34,  95, 169],\n",
       "         [ 34,  95, 169],\n",
       "         [165, 194, 224],\n",
       "         [237, 247, 254]],\n",
       "\n",
       "        [[ 34,  95, 169],\n",
       "         [ 34,  95, 169],\n",
       "         [ 34,  95, 169],\n",
       "         [ 34,  95, 169],\n",
       "         [ 34,  95, 169],\n",
       "         [155, 186, 219],\n",
       "         [237, 247, 254]],\n",
       "\n",
       "        [[ 34,  95, 169],\n",
       "         [ 34,  95, 169],\n",
       "         [ 34,  95, 169],\n",
       "         [ 34,  95, 169],\n",
       "         [ 34,  95, 169],\n",
       "         [145, 178, 215],\n",
       "         [237, 247, 254]],\n",
       "\n",
       "        [[ 34,  95, 169],\n",
       "         [ 34,  95, 169],\n",
       "         [ 34,  95, 169],\n",
       "         [ 34,  95, 169],\n",
       "         [ 34,  95, 169],\n",
       "         [134, 170, 210],\n",
       "         [232, 244, 252]],\n",
       "\n",
       "        [[ 34,  95, 169],\n",
       "         [ 34,  95, 169],\n",
       "         [ 34,  95, 169],\n",
       "         [ 34,  95, 169],\n",
       "         [ 34,  95, 169],\n",
       "         [ 36,  96, 169],\n",
       "         [ 34,  95, 169]]]], dtype=uint8)"
      ]
     },
     "execution_count": 17,
     "metadata": {},
     "output_type": "execute_result"
    }
   ],
   "source": [
    "X[:, 12:18, 3:10]"
   ]
  },
  {
   "cell_type": "markdown",
   "metadata": {},
   "source": [
    "# 实测"
   ]
  },
  {
   "cell_type": "code",
   "execution_count": 22,
   "metadata": {
    "collapsed": false
   },
   "outputs": [],
   "source": [
    "test_path = os.getcwd() + '/sample'\n",
    "root, dirs, files = os.walk(test_path).next()\n",
    "\n",
    "def getAllImages(path):\n",
    "    cnt = len(files)\n",
    "    X = np.zeros((cnt, height, width, 3), dtype=np.uint8)\n",
    "    y = []\n",
    "    for i, j in enumerate(files):\n",
    "        #X[i] = cv2.imread(root+'/'+j)\n",
    "        img = cv2.imread(root+'/'+j)\n",
    "        b, g, r = cv2.split(img)\n",
    "        X[i] = cv2.merge([r, g, b])\n",
    "        y.append(j[:4])\n",
    "    return X, y\n",
    "\n",
    "allX, ally = getAllImages(test_path)"
   ]
  },
  {
   "cell_type": "code",
   "execution_count": 23,
   "metadata": {
    "collapsed": false,
    "scrolled": true
   },
   "outputs": [],
   "source": [
    "pred_y = model.predict(allX[2].reshape(X.shape))"
   ]
  },
  {
   "cell_type": "code",
   "execution_count": 24,
   "metadata": {
    "collapsed": false
   },
   "outputs": [
    {
     "data": {
      "text/plain": [
       "'nwHV'"
      ]
     },
     "execution_count": 24,
     "metadata": {},
     "output_type": "execute_result"
    }
   ],
   "source": [
    "decode(pred_y)"
   ]
  },
  {
   "cell_type": "code",
   "execution_count": 25,
   "metadata": {
    "collapsed": false
   },
   "outputs": [
    {
     "data": {
      "image/png": "[encoded data removed]",
      "text/plain": [
       "<matplotlib.figure.Figure at 0x7f414567ce10>"
      ]
     },
     "metadata": {},
     "output_type": "display_data"
    }
   ],
   "source": [
    "plt.imshow(cv2.cvtColor(allX[6], cv2.COLOR_BGR2RGB))\n",
    "plt.show()"
   ]
  },
  {
   "cell_type": "code",
   "execution_count": 26,
   "metadata": {
    "collapsed": false
   },
   "outputs": [
    {
     "data": {
      "text/plain": [
       "array([[[142, 120,  83],\n",
       "        [156, 132,  94]],\n",
       "\n",
       "       [[136, 114,  77],\n",
       "        [143, 119,  81]],\n",
       "\n",
       "       [[134, 110,  74],\n",
       "        [139, 113,  76]],\n",
       "\n",
       "       [[139, 115,  79],\n",
       "        [157, 129,  92]],\n",
       "\n",
       "       [[149, 125,  91],\n",
       "        [180, 152, 115]],\n",
       "\n",
       "       [[153, 129,  95],\n",
       "        [185, 157, 120]],\n",
       "\n",
       "       [[149, 124,  93],\n",
       "        [167, 138, 104]],\n",
       "\n",
       "       [[142, 118,  90],\n",
       "        [143, 117,  84]],\n",
       "\n",
       "       [[242, 221, 194],\n",
       "        [213, 188, 158]],\n",
       "\n",
       "       [[255, 244, 220],\n",
       "        [245, 224, 197]],\n",
       "\n",
       "       [[255, 252, 232],\n",
       "        [255, 249, 227]],\n",
       "\n",
       "       [[255, 246, 230],\n",
       "        [255, 247, 231]],\n",
       "\n",
       "       [[248, 238, 226],\n",
       "        [255, 243, 229]],\n",
       "\n",
       "       [[253, 244, 235],\n",
       "        [255, 249, 240]],\n",
       "\n",
       "       [[254, 247, 239],\n",
       "        [255, 254, 248]],\n",
       "\n",
       "       [[247, 243, 234],\n",
       "        [253, 250, 243]]], dtype=uint8)"
      ]
     },
     "execution_count": 26,
     "metadata": {},
     "output_type": "execute_result"
    }
   ],
   "source": [
    "allX[6][32:48, 6:8]"
   ]
  },
  {
   "cell_type": "code",
   "execution_count": 91,
   "metadata": {
    "collapsed": false
   },
   "outputs": [
    {
     "data": {
      "text/plain": [
       "'febe'"
      ]
     },
     "execution_count": 91,
     "metadata": {},
     "output_type": "execute_result"
    }
   ],
   "source": [
    "al = ally[0]\n",
    "al.lower()"
   ]
  },
  {
   "cell_type": "code",
   "execution_count": 27,
   "metadata": {
    "collapsed": false
   },
   "outputs": [
    {
     "name": "stdout",
     "output_type": "stream",
     "text": [
      "the total correct number is 183\n",
      "the right rate is 18.75%\n"
     ]
    }
   ],
   "source": [
    "count = len(ally)\n",
    "correct = 0\n",
    "for i, j in zip(allX, ally):\n",
    "    predy = model.predict(i.reshape(X.shape))\n",
    "    predy = decode(predy)\n",
    "    if predy.lower() == j.lower():\n",
    "        correct += 1\n",
    "print 'the total correct number is %d' %correct\n",
    "print 'the right rate is %.2f%%' %(float(correct)/count*100)"
   ]
  },
  {
   "cell_type": "code",
   "execution_count": 18,
   "metadata": {
    "collapsed": true
   },
   "outputs": [],
   "source": [
    "b, g, r = cv2.split(allX[6])"
   ]
  },
  {
   "cell_type": "code",
   "execution_count": 19,
   "metadata": {
    "collapsed": true
   },
   "outputs": [],
   "source": [
    "rgb_img = cv2.merge([r, g, b])"
   ]
  },
  {
   "cell_type": "code",
   "execution_count": 21,
   "metadata": {
    "collapsed": false
   },
   "outputs": [
    {
     "data": {
      "image/png": "[encoded data removed]",
      "text/plain": [
       "<matplotlib.figure.Figure at 0x7f418848e490>"
      ]
     },
     "metadata": {},
     "output_type": "display_data"
    }
   ],
   "source": [
    "plt.imshow(rgb_img)\n",
    "plt.show()"
   ]
  },
  {
   "cell_type": "code",
   "execution_count": null,
   "metadata": {
    "collapsed": true
   },
   "outputs": [],
   "source": []
  }
 ],
 "metadata": {
  "kernelspec": {
   "display_name": "Python 2",
   "language": "python",
   "name": "python2"
  },
  "language_info": {
   "codemirror_mode": {
    "name": "ipython",
    "version": 2
   },
   "file_extension": ".py",
   "mimetype": "text/x-python",
   "name": "python",
   "nbconvert_exporter": "python",
   "pygments_lexer": "ipython2",
   "version": "2.7.13"
  }
 },
 "nbformat": 4,
 "nbformat_minor": 2
}
