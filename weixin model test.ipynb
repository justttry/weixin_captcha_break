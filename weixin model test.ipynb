{
 "cells": [
  {
   "cell_type": "code",
   "execution_count": 1,
   "metadata": {
    "collapsed": false
   },
   "outputs": [
    {
     "name": "stderr",
     "output_type": "stream",
     "text": [
      "Using TensorFlow backend.\n"
     ]
    }
   ],
   "source": [
    "from keras.models import load_model\n",
    "from generator import captcha_generator as gen\n",
    "import string\n",
    "from tqdm import tqdm\n",
    "import numpy as np\n",
    "from matplotlib import pyplot as plt\n",
    "import cv2"
   ]
  },
  {
   "cell_type": "code",
   "execution_count": 16,
   "metadata": {
    "collapsed": false
   },
   "outputs": [],
   "source": [
    "chars = string.ascii_lowercase + string.ascii_uppercase\n",
    "width, height, n_len, n_class = 130, 53, 4, len(chars)"
   ]
  },
  {
   "cell_type": "code",
   "execution_count": 11,
   "metadata": {
    "collapsed": false
   },
   "outputs": [
    {
     "name": "stderr",
     "output_type": "stream",
     "text": [
      "/home/z/anaconda2/lib/python2.7/site-packages/keras/models.py:258: UserWarning: No training configuration found in save file: the model was *not* compiled. Compile it manually.\n",
      "  warnings.warn('No training configuration found in save file: '\n"
     ]
    }
   ],
   "source": [
    "model = load_model('weixin_trained_model.h5')"
   ]
  },
  {
   "cell_type": "code",
   "execution_count": 15,
   "metadata": {
    "collapsed": true
   },
   "outputs": [],
   "source": [
    "def decode(y):\n",
    "    y = np.argmax(np.array(y), axis=2)[:,0]\n",
    "    return ''.join([chars[x] for x in y])"
   ]
  },
  {
   "cell_type": "code",
   "execution_count": 5,
   "metadata": {
    "collapsed": true
   },
   "outputs": [],
   "source": [
    "def evaluate(model, batch_num=20):\n",
    "    batch_acc = 0\n",
    "    generator = gen(width=width, height=height)\n",
    "    for i in tqdm(range(batch_num)):\n",
    "        X, y = generator.next()\n",
    "        y_pred = model.predict(X)\n",
    "        batch_acc += np.mean(map(np.array_equal, np.argmax(y, axis=2).T, np.argmax(y_pred, axis=2).T))\n",
    "    return batch_acc / batch_num"
   ]
  },
  {
   "cell_type": "code",
   "execution_count": 6,
   "metadata": {
    "collapsed": false
   },
   "outputs": [
    {
     "name": "stderr",
     "output_type": "stream",
     "text": [
      "100%|██████████| 20/20 [00:28<00:00,  1.33s/it]"
     ]
    },
    {
     "name": "stdout",
     "output_type": "stream",
     "text": [
      "0.0796875\n"
     ]
    },
    {
     "name": "stderr",
     "output_type": "stream",
     "text": [
      "\n"
     ]
    }
   ],
   "source": [
    "print evaluate(model)"
   ]
  },
  {
   "cell_type": "code",
   "execution_count": 7,
   "metadata": {
    "collapsed": true
   },
   "outputs": [],
   "source": [
    "generator = gen(width=width, height=height, batch_size=1)"
   ]
  },
  {
   "cell_type": "code",
   "execution_count": 8,
   "metadata": {
    "collapsed": true
   },
   "outputs": [],
   "source": [
    "X, y = generator.next()"
   ]
  },
  {
   "cell_type": "code",
   "execution_count": 9,
   "metadata": {
    "collapsed": false
   },
   "outputs": [
    {
     "data": {
      "text/plain": [
       "'yFwM'"
      ]
     },
     "execution_count": 9,
     "metadata": {},
     "output_type": "execute_result"
    }
   ],
   "source": [
    "X.shape\n",
    "decode(y)"
   ]
  },
  {
   "cell_type": "code",
   "execution_count": 10,
   "metadata": {
    "collapsed": true
   },
   "outputs": [],
   "source": [
    "def yevaluate(model, cnt=1000):\n",
    "    batch_acc = 0\n",
    "    generator = gen(width=width, height=height, batch_size=1)\n",
    "    for _ in tqdm(range(cnt)):\n",
    "        X, y = generator.next()\n",
    "        y_pred = model.predict(X)\n",
    "        if decode(y).lower() == decode(y_pred).lower():\n",
    "            batch_acc += 1\n",
    "    return float(batch_acc) / cnt"
   ]
  },
  {
   "cell_type": "code",
   "execution_count": 11,
   "metadata": {
    "collapsed": false
   },
   "outputs": [
    {
     "name": "stderr",
     "output_type": "stream",
     "text": [
      "100%|██████████| 10000/10000 [04:16<00:00, 39.02it/s]"
     ]
    },
    {
     "name": "stdout",
     "output_type": "stream",
     "text": [
      "0.9398\n"
     ]
    },
    {
     "name": "stderr",
     "output_type": "stream",
     "text": [
      "\n"
     ]
    }
   ],
   "source": [
    "print yevaluate(model, 10000)"
   ]
  },
  {
   "cell_type": "markdown",
   "metadata": {},
   "source": [
    "# 生成函数测试"
   ]
  },
  {
   "cell_type": "code",
   "execution_count": 12,
   "metadata": {
    "collapsed": false,
    "scrolled": true
   },
   "outputs": [
    {
     "data": {
      "image/png": "[encoded data removed]",
      "text/plain": [
       "<matplotlib.figure.Figure at 0x7fa11f564690>"
      ]
     },
     "metadata": {},
     "output_type": "display_data"
    },
    {
     "name": "stdout",
     "output_type": "stream",
     "text": [
      "y: OzYB\n",
      "pred_y: OZYB\n"
     ]
    }
   ],
   "source": [
    "a = gen(width=width, height=height, batch_size=1)\n",
    "X, y = a.next()\n",
    "pred_y = model.predict(X)\n",
    "plt.imshow(cv2.cvtColor(X[0], cv2.COLOR_BGR2RGB))\n",
    "plt.show()\n",
    "print 'y:', decode(y)\n",
    "print 'pred_y:', decode(pred_y)"
   ]
  },
  {
   "cell_type": "code",
   "execution_count": 13,
   "metadata": {
    "collapsed": false
   },
   "outputs": [
    {
     "data": {
      "text/plain": [
       "array([[[[237, 247, 254],\n",
       "         [237, 247, 254],\n",
       "         [237, 247, 254],\n",
       "         [237, 247, 254],\n",
       "         [237, 247, 254],\n",
       "         [237, 247, 254],\n",
       "         [237, 247, 254]],\n",
       "\n",
       "        [[237, 247, 254],\n",
       "         [237, 247, 254],\n",
       "         [237, 247, 254],\n",
       "         [237, 247, 254],\n",
       "         [237, 247, 254],\n",
       "         [237, 247, 254],\n",
       "         [237, 247, 254]],\n",
       "\n",
       "        [[237, 247, 254],\n",
       "         [237, 247, 254],\n",
       "         [237, 247, 254],\n",
       "         [237, 247, 254],\n",
       "         [237, 247, 254],\n",
       "         [237, 247, 254],\n",
       "         [237, 247, 254]],\n",
       "\n",
       "        [[237, 247, 254],\n",
       "         [237, 247, 254],\n",
       "         [237, 247, 254],\n",
       "         [237, 247, 254],\n",
       "         [237, 247, 254],\n",
       "         [237, 247, 254],\n",
       "         [237, 247, 254]],\n",
       "\n",
       "        [[237, 247, 254],\n",
       "         [237, 247, 254],\n",
       "         [237, 247, 254],\n",
       "         [237, 247, 254],\n",
       "         [237, 247, 254],\n",
       "         [237, 247, 254],\n",
       "         [237, 247, 254]],\n",
       "\n",
       "        [[237, 247, 254],\n",
       "         [237, 247, 254],\n",
       "         [237, 247, 254],\n",
       "         [237, 247, 254],\n",
       "         [237, 247, 254],\n",
       "         [237, 247, 254],\n",
       "         [237, 247, 254]]]], dtype=uint8)"
      ]
     },
     "execution_count": 13,
     "metadata": {},
     "output_type": "execute_result"
    }
   ],
   "source": [
    "X[:, 12:18, 3:10]"
   ]
  },
  {
   "cell_type": "markdown",
   "metadata": {},
   "source": [
    "# 实测"
   ]
  },
  {
   "cell_type": "code",
   "execution_count": 14,
   "metadata": {
    "collapsed": false
   },
   "outputs": [],
   "source": [
    "test_path = os.getcwd() + '/sample'\n",
    "root, dirs, files = os.walk(test_path).next()\n",
    "\n",
    "def getAllImages(path):\n",
    "    cnt = len(files)\n",
    "    X = np.zeros((cnt, height, width, 3), dtype=np.uint8)\n",
    "    y = []\n",
    "    for i, j in enumerate(files):\n",
    "        X[i] = cv2.imread(root+'/'+j)\n",
    "        #img = cv2.imread(root+'/'+j)\n",
    "        #b, g, r = cv2.split(img)\n",
    "        #X[i] = cv2.merge([r, g, b])\n",
    "        y.append(j[:4])\n",
    "    return X, y\n",
    "\n",
    "allX, ally = getAllImages(test_path)"
   ]
  },
  {
   "cell_type": "code",
   "execution_count": 15,
   "metadata": {
    "collapsed": false,
    "scrolled": true
   },
   "outputs": [],
   "source": [
    "pred_y = model.predict(allX[2].reshape(X.shape))"
   ]
  },
  {
   "cell_type": "code",
   "execution_count": 16,
   "metadata": {
    "collapsed": false
   },
   "outputs": [
    {
     "data": {
      "text/plain": [
       "'NwHy'"
      ]
     },
     "execution_count": 16,
     "metadata": {},
     "output_type": "execute_result"
    }
   ],
   "source": [
    "decode(pred_y)"
   ]
  },
  {
   "cell_type": "code",
   "execution_count": 17,
   "metadata": {
    "collapsed": false
   },
   "outputs": [
    {
     "data": {
      "image/png": "[encoded data removed]",
      "text/plain": [
       "<matplotlib.figure.Figure at 0x7fa161b2e490>"
      ]
     },
     "metadata": {},
     "output_type": "display_data"
    }
   ],
   "source": [
    "plt.imshow(cv2.cvtColor(allX[6], cv2.COLOR_BGR2RGB))\n",
    "plt.show()"
   ]
  },
  {
   "cell_type": "code",
   "execution_count": 18,
   "metadata": {
    "collapsed": true
   },
   "outputs": [
    {
     "data": {
      "text/plain": [
       "array([[[ 83, 120, 142],\n",
       "        [ 94, 132, 156]],\n",
       "\n",
       "       [[ 77, 114, 136],\n",
       "        [ 81, 119, 143]],\n",
       "\n",
       "       [[ 74, 110, 134],\n",
       "        [ 76, 113, 139]],\n",
       "\n",
       "       [[ 79, 115, 139],\n",
       "        [ 92, 129, 157]],\n",
       "\n",
       "       [[ 91, 125, 149],\n",
       "        [115, 152, 180]],\n",
       "\n",
       "       [[ 95, 129, 153],\n",
       "        [120, 157, 185]],\n",
       "\n",
       "       [[ 93, 124, 149],\n",
       "        [104, 138, 167]],\n",
       "\n",
       "       [[ 90, 118, 142],\n",
       "        [ 84, 117, 143]],\n",
       "\n",
       "       [[194, 221, 242],\n",
       "        [158, 188, 213]],\n",
       "\n",
       "       [[220, 244, 255],\n",
       "        [197, 224, 245]],\n",
       "\n",
       "       [[232, 252, 255],\n",
       "        [227, 249, 255]],\n",
       "\n",
       "       [[230, 246, 255],\n",
       "        [231, 247, 255]],\n",
       "\n",
       "       [[226, 238, 248],\n",
       "        [229, 243, 255]],\n",
       "\n",
       "       [[235, 244, 253],\n",
       "        [240, 249, 255]],\n",
       "\n",
       "       [[239, 247, 254],\n",
       "        [248, 254, 255]],\n",
       "\n",
       "       [[234, 243, 247],\n",
       "        [243, 250, 253]]], dtype=uint8)"
      ]
     },
     "execution_count": 18,
     "metadata": {},
     "output_type": "execute_result"
    }
   ],
   "source": [
    "allX[6][32:48, 6:8]"
   ]
  },
  {
   "cell_type": "code",
   "execution_count": 19,
   "metadata": {
    "collapsed": false
   },
   "outputs": [
    {
     "data": {
      "text/plain": [
       "'febe'"
      ]
     },
     "execution_count": 19,
     "metadata": {},
     "output_type": "execute_result"
    }
   ],
   "source": [
    "al = ally[0]\n",
    "al.lower()"
   ]
  },
  {
   "cell_type": "code",
   "execution_count": 20,
   "metadata": {
    "collapsed": false,
    "scrolled": true
   },
   "outputs": [
    {
     "name": "stdout",
     "output_type": "stream",
     "text": [
      "the total correct number is 270\n",
      "the right rate is 27.66%\n"
     ]
    }
   ],
   "source": [
    "count = len(ally)\n",
    "correct = 0\n",
    "for i, j in zip(allX, ally):\n",
    "    predy = model.predict(i.reshape(X.shape))\n",
    "    predy = decode(predy)\n",
    "    if predy.lower() == j.lower():\n",
    "        correct += 1\n",
    "print 'the total correct number is %d' %correct\n",
    "print 'the right rate is %.2f%%' %(float(correct)/count*100)"
   ]
  },
  {
   "cell_type": "code",
   "execution_count": 22,
   "metadata": {
    "collapsed": true
   },
   "outputs": [],
   "source": [
    "b, g, r = cv2.split(allX[6])"
   ]
  },
  {
   "cell_type": "code",
   "execution_count": 23,
   "metadata": {
    "collapsed": true
   },
   "outputs": [],
   "source": [
    "rgb_img = cv2.merge([r, g, b])"
   ]
  },
  {
   "cell_type": "code",
   "execution_count": 24,
   "metadata": {
    "collapsed": false
   },
   "outputs": [
    {
     "data": {
      "image/png": "[encoded data removed]",
      "text/plain": [
       "<matplotlib.figure.Figure at 0x7fa11ef81410>"
      ]
     },
     "metadata": {},
     "output_type": "display_data"
    }
   ],
   "source": [
    "plt.imshow(rgb_img)\n",
    "plt.show()"
   ]
  },
  {
   "cell_type": "code",
   "execution_count": 3,
   "metadata": {
    "collapsed": true
   },
   "outputs": [],
   "source": [
    "import os"
   ]
  },
  {
   "cell_type": "code",
   "execution_count": 4,
   "metadata": {
    "collapsed": false
   },
   "outputs": [],
   "source": [
    "test_path = os.getcwd() + '/sample'"
   ]
  },
  {
   "cell_type": "code",
   "execution_count": 5,
   "metadata": {
    "collapsed": false
   },
   "outputs": [
    {
     "data": {
      "text/plain": [
       "'/home/z/gtest/weixin_captcha_break/sample'"
      ]
     },
     "execution_count": 5,
     "metadata": {},
     "output_type": "execute_result"
    }
   ],
   "source": [
    "test_path"
   ]
  },
  {
   "cell_type": "code",
   "execution_count": 8,
   "metadata": {
    "collapsed": false
   },
   "outputs": [],
   "source": [
    "x = cv2.imread(test_path+'/ABDm.png')"
   ]
  },
  {
   "cell_type": "code",
   "execution_count": 9,
   "metadata": {
    "collapsed": false
   },
   "outputs": [
    {
     "data": {
      "image/png": "[encoded data removed]",
      "text/plain": [
       "<matplotlib.figure.Figure at 0x7f0449d1a5d0>"
      ]
     },
     "metadata": {},
     "output_type": "display_data"
    }
   ],
   "source": [
    "plt.imshow(cv2.cvtColor(x, cv2.COLOR_BGR2RGB))\n",
    "plt.show()"
   ]
  },
  {
   "cell_type": "code",
   "execution_count": 13,
   "metadata": {
    "collapsed": false
   },
   "outputs": [],
   "source": [
    "pred_y = model.predict(x.reshape((1,)+x.shape))"
   ]
  },
  {
   "cell_type": "code",
   "execution_count": 14,
   "metadata": {
    "collapsed": false
   },
   "outputs": [
    {
     "data": {
      "text/plain": [
       "[array([[  4.70779002e-01,   3.91138456e-05,   3.10555879e-05,\n",
       "           1.34609290e-04,   9.32999592e-06,   1.42559566e-06,\n",
       "           3.88239678e-05,   6.09125455e-05,   3.20499748e-06,\n",
       "           3.92196845e-04,   1.49978378e-05,   2.73031424e-06,\n",
       "           1.42792793e-04,   5.50742901e-04,   2.95709615e-04,\n",
       "           1.91154504e-05,   1.44023737e-02,   7.91201601e-04,\n",
       "           1.02516446e-04,   8.98941362e-05,   4.22108787e-05,\n",
       "           6.78503420e-05,   4.76224050e-05,   2.88787356e-04,\n",
       "           2.51410947e-05,   4.96466673e-05,   4.85136807e-01,\n",
       "           6.88018044e-05,   3.79929224e-05,   4.65464400e-05,\n",
       "           2.13032163e-05,   1.04875210e-06,   5.81882123e-05,\n",
       "           2.88792453e-05,   4.24158088e-06,   3.10701202e-04,\n",
       "           1.88958657e-05,   2.69892985e-06,   1.04501822e-04,\n",
       "           1.02484238e-03,   2.11894177e-04,   3.12949560e-05,\n",
       "           2.21745390e-02,   1.73295068e-03,   1.18090487e-04,\n",
       "           3.98759403e-05,   3.12732336e-05,   3.38505961e-05,\n",
       "           5.07875229e-05,   2.03280521e-04,   4.11476249e-05,\n",
       "           4.25572398e-05]], dtype=float32),\n",
       " array([[  1.39591075e-03,   4.75336909e-01,   1.96231552e-03,\n",
       "           1.18806225e-03,   6.39122259e-03,   1.76652014e-04,\n",
       "           9.64692910e-04,   5.06264530e-03,   9.32151277e-04,\n",
       "           9.17833124e-04,   3.52858711e-04,   4.55325062e-04,\n",
       "           1.58504336e-05,   2.60267203e-04,   2.12544372e-04,\n",
       "           5.32890728e-04,   8.07105331e-04,   1.82557898e-03,\n",
       "           4.08851821e-03,   1.21085308e-04,   9.86421132e-04,\n",
       "           6.80745725e-05,   1.86786365e-05,   9.93609865e-05,\n",
       "           2.39193047e-04,   3.48123605e-03,   1.48838654e-03,\n",
       "           4.60788816e-01,   2.49927770e-03,   6.93143287e-04,\n",
       "           7.85241369e-03,   8.12034050e-05,   8.04351701e-04,\n",
       "           2.17484008e-03,   7.65749603e-04,   1.41544698e-03,\n",
       "           3.08262359e-04,   7.25467107e-04,   1.96831497e-05,\n",
       "           2.30381411e-04,   5.97321428e-04,   4.22429555e-04,\n",
       "           1.61798124e-03,   2.99126352e-03,   1.93235872e-03,\n",
       "           6.98018630e-05,   1.46127748e-03,   8.01230708e-05,\n",
       "           2.03702039e-05,   2.23411116e-04,   2.33638333e-04,\n",
       "           2.60910252e-03]], dtype=float32),\n",
       " array([[  1.32818794e-04,   3.79059464e-01,   2.09357217e-03,\n",
       "           7.54801650e-03,   1.83075579e-04,   2.03009156e-04,\n",
       "           3.24225868e-04,   1.01740385e-04,   1.27040563e-04,\n",
       "           6.04023575e-04,   3.16351434e-05,   5.77830288e-05,\n",
       "           1.16865374e-06,   1.01903070e-05,   1.17634702e-03,\n",
       "           7.17907213e-04,   3.58887737e-05,   7.12272886e-05,\n",
       "           3.31632746e-03,   4.00622557e-05,   3.76117387e-04,\n",
       "           1.57034829e-05,   6.33347270e-07,   4.44821717e-06,\n",
       "           9.12118412e-05,   5.90273630e-05,   1.04240527e-04,\n",
       "           5.80894649e-01,   4.90703946e-03,   1.04401903e-02,\n",
       "           3.43746186e-04,   1.59932824e-04,   1.52867666e-04,\n",
       "           8.37617772e-05,   1.38117466e-04,   5.52610029e-04,\n",
       "           2.20658967e-05,   5.97417893e-05,   1.99548776e-06,\n",
       "           5.70460088e-06,   7.91023427e-04,   1.26661907e-04,\n",
       "           1.61186268e-04,   1.36496237e-04,   3.27334623e-03,\n",
       "           1.20245866e-04,   8.94480268e-04,   3.21313637e-05,\n",
       "           1.44419903e-06,   1.55346588e-05,   1.34578848e-04,\n",
       "           6.36427358e-05]], dtype=float32),\n",
       " array([[  1.62025477e-04,   1.31364985e-04,   8.65736161e-04,\n",
       "           2.19130801e-04,   6.53628435e-04,   6.77876465e-04,\n",
       "           8.78879451e-04,   1.97840971e-04,   1.12184047e-04,\n",
       "           8.03350486e-05,   3.45541490e-03,   1.99276314e-04,\n",
       "           5.36107719e-01,   2.10236394e-04,   3.91717476e-04,\n",
       "           1.26082972e-02,   2.86443857e-04,   5.62909467e-04,\n",
       "           3.74881463e-04,   1.26263694e-04,   2.50114681e-04,\n",
       "           5.39238099e-04,   4.84863704e-04,   8.95738718e-04,\n",
       "           4.02588572e-04,   2.59222370e-03,   4.15531744e-04,\n",
       "           2.46504293e-04,   9.44354746e-04,   1.03477294e-04,\n",
       "           3.78812605e-04,   5.34216000e-04,   2.19731824e-03,\n",
       "           1.79015027e-04,   2.53395643e-04,   4.17117481e-05,\n",
       "           2.25724722e-03,   1.77724272e-04,   4.13516939e-01,\n",
       "           1.95767439e-04,   3.76206794e-04,   5.33389766e-03,\n",
       "           2.84151582e-04,   2.69166339e-04,   4.77789959e-04,\n",
       "           3.65365704e-04,   1.84656470e-04,   3.04054032e-04,\n",
       "           1.05420791e-03,   1.91268418e-03,   3.79057077e-04,\n",
       "           4.14981693e-03]], dtype=float32)]"
      ]
     },
     "execution_count": 14,
     "metadata": {},
     "output_type": "execute_result"
    }
   ],
   "source": [
    "pred_y"
   ]
  },
  {
   "cell_type": "code",
   "execution_count": 17,
   "metadata": {
    "collapsed": false
   },
   "outputs": [
    {
     "data": {
      "text/plain": [
       "'AbBm'"
      ]
     },
     "execution_count": 17,
     "metadata": {},
     "output_type": "execute_result"
    }
   ],
   "source": [
    "decode(pred_y)"
   ]
  },
  {
   "cell_type": "code",
   "execution_count": 18,
   "metadata": {
    "collapsed": false
   },
   "outputs": [
    {
     "name": "stdout",
     "output_type": "stream",
     "text": [
      "AACG.png  DBPC.png\tERPD.png      HXMH.png\t    OBOR.png\t  SDGH.png\r\n",
      "ABDm.png  DBPE.png\tETOG.png      HXMm.png\t    OCGO.png\t  SDLE.png\r\n",
      "ABGq.png  DBTM.png\tETRE.png      HXnm.png\t    OCOF.png\t  SFAL.png\r\n",
      "ABHC.png  DCBR.png\tEZAH.png      HXNX.png\t    OCPB.png\t  SFLq.png\r\n",
      "ACKR.png  DCEC.png\tFAGD.png      HXQY.png\t    OCPE.png\t  SFSL.png\r\n",
      "ACLO.png  DCGD.png\tFAHL.png      HXwY.png\t    ODDC.png\t  SGmB.png\r\n",
      "AEDS.png  DCOE.png\tFBAF.png      HXyh.png\t    ODEB.png\t  SHMK.png\r\n",
      "AGDF.png  DCPC.png\tFBBD.png      HXYm.png\t    ODGR.png\t  SHOE.png\r\n",
      "AGFM.png  DCPD.png\tFBCD.png      HXYY.png\t    OEDE.png\t  SLBD.png\r\n",
      "AGTn.png  DCPG.png\tFBGB.png      HyHM.png\t    OEFC.png\t  SQHW.png\r\n",
      "AKQP.png  DCPR.png\tFBGF.png      HyHN.png\t    OEFD.png\t  STAT.png\r\n",
      "AKTH.png  DCRC.png\tFBPB.png      HYHY.png\t    OEFE.png\t  TAOE.png\r\n",
      "AKWm.png  DDBB.png\tFBPF.png      HymH.png\t    OEQP.png\t  TASE.png\r\n",
      "ALGH.png  DDDE.png\tFCDF.png      HYMm.png\t    OFGR.png\t  TBQA.png\r\n",
      "ALKW.png  DDGB.png\tFCDL.png      HYMY.png\t    OFmL.png\t  TCQZ.png\r\n",
      "ALRD.png  DDGR.png\tFCEE.png      HYnH.png\t    OHFB.png\t  TDWC.png\r\n",
      "aMBn.png  DDHQ.png\tFCGP.png      HYnm.png\t    OHQB.png\t  TFLq.png\r\n",
      "AmEG.png  DEBC.png\tFDBL.png      HYnn.png\t    OPER.png\t  TFmB.png\r\n",
      "AMOQ.png  DEBE.png\tFDBO.png      HYXH.png\t    OPFE.png\t  Tmnm.png\r\n",
      "APKD.png  DECE.png\tFDCP.png      HYXm.png\t    OQRB.png\t  TNDM.png\r\n",
      "AQAS.png  DEDB.png\tFDDE.png      HYXN.png\t    ORBD.png\t  TORQ.png\r\n",
      "AQLM.png  DEDG.png\tFDDH.png      HyyH (2).png  OREE.png\t  TZAS.png\r\n",
      "AQTS.png  DEED.png\tFDEF (2).png  HYyH.png\t    ORGB.png\t  TZHC.png\r\n",
      "AQXB.png  DEEG.png\tFDEF.png      HyYm.png\t    ORKE.png\t  TZME.png\r\n",
      "ASRH.png  DEFD.png\tFDLA.png      HYyX.png\t    OSDP.png\t  WAPD.png\r\n",
      "ATmS.png  DEGE.png\tFDOB.png      KETD.png\t    OTAL.png\t  WAZH.png\r\n",
      "ATPR.png  DEOG.png\tFDPO.png      KFDF.png\t    OWGT.png\t  wBBQ.png\r\n",
      "AWFE.png  DEPC.png\tFDPR.png      KHQK.png\t    PACB.png\t  WBES.png\r\n",
      "AWSL.png  DEPG.png\tFDxN.png      KmGA.png\t    PBBE.png\t  WBHQ.png\r\n",
      "BACT.png  DEPS.png\tFEAL.png      KmGC.png\t    PBDB.png\t  WBLX.png\r\n",
      "BAGA.png  DEQP.png\tFEBD.png      kmQS.png\t    PBDP.png\t  WBRF.png\r\n",
      "BAKQ.png  DERF.png\tFEBE.png      KOAm.png\t    PBFB.png\t  wFHE.png\r\n",
      "BALT.png  DFCO.png\tFEBF.png      KqBE.png\t    PBGB.png\t  WHHw.png\r\n",
      "BBDB.png  DFEN.png\tFEBG.png      KSPB.png\t    PBGE.png\t  WHWY.png\r\n",
      "bbeb.png  DFOE.png\tFEDB.png      LABR.png\t    PBGF.png\t  WHYm.png\r\n",
      "BBLX.png  DFPR.png\tFEDC.png      LAmB.png\t    PBQP.png\t  WHYn.png\r\n",
      "BBmK.png  DGBA.png\tFEDO.png      LBOD.png\t    PCER.png\t  wLCP.png\r\n",
      "BBnS.png  DGBB.png\tFEFB.png      LDCB.png\t    PCFB.png\t  WLRK.png\r\n",
      "BBRE.png  DGBp.png\tFEGC.png      LDOB.png\t    PCMA.png\t  wmHM.png\r\n",
      "BCBF.png  DGDE (2).png\tFEGD.png      LEHH.png\t    PDBG.png\t  WmRH.png\r\n",
      "BCBG.png  DGDE.png\tFEGP.png      LFHm.png\t    PDBQ.png\t  WnmN.png\r\n",
      "BCBP.png  DGDF.png\tFERB.png      LGnG.png\t    PDCE.png\t  wnMP.png\r\n",
      "BCDB.png  DGFB.png\tFERP.png      LGRD.png\t    PDEB.png\t  wnNY.png\r\n",
      "BCDD.png  DGFD.png\tFFDP.png      LHmM.png\t    PDEE.png\t  WQBR.png\r\n",
      "BCED.png  DGFG.png\tFGBG.png      LKAR.png\t    PDEGT.png\t  WQGW.png\r\n",
      "BCEP.png  DGFO.png\tFGDE.png      LNLT.png\t    PDFQ.png\t  WRZM.png\r\n",
      "BCRD.png  DGKH.png\tFGEG (2).png  LOMB.png\t    PDRE.png\t  WSHn.png\r\n",
      "BCXG.png  DHGD.png\tFGEG.png      LQLE.png\t    PDRG.png\t  WSLE.png\r\n",
      "BDBF.png  DKBP.png\tFGFE.png      LQnB.png\t    PEBO.png\t  wTCM.png\r\n",
      "BDEF.png  DLGG.png\tFGKB.png      LRTO.png\t    PEBR.png\t  WXRP.png\r\n",
      "BDGP.png  DMLS.png\tFGRE.png      LSGA.png\t    PEDE.png\t  wYHm.png\r\n",
      "BDNO.png  DmTw.png\tFHRO.png      mBDL.png\t    PEDF.png\t  WyHn.png\r\n",
      "BDOD.png  DnLA.png\tFMBG.png      mBHN.png\t    PEER.png\t  wymx.png\r\n",
      "BDPD.png  DnTF.png\tFmTW.png      mcKA.png\t    PEPB.png\t  wYmY.png\r\n",
      "BDTA.png  DOBD.png\tFnFA.png      mDAG.png\t    PEPF.png\t  WYNm.png\r\n",
      "BDXS.png  DODP.png\tFOGC.png      MDFE.png\t    PFBD.png\t  wYWH.png\r\n",
      "BEBB.png  DOER.png\tFPDS.png      mDGA.png\t    PFBR.png\t  wYXn.png\r\n",
      "BEDD.png  DOLA.png\tFPFn.png      mDLF.png\t    PFCR.png\t  XAwE.png\r\n",
      "BEDR.png  DORF.png\tFQAB.png      mDOX.png\t    PFOE.png\t  XBAT.png\r\n",
      "BEER.png  DORP.png\tFQHN.png      mDPF.png\t    PFRD.png\t  XBnG.png\r\n",
      "BEHS.png  DPBF.png\tFQHO.png      MDTD.png\t    PFRO.png\t  XCDL.png\r\n",
      "BEPO.png  DPBR.png\tFRAD.png      mGHP.png\t    PGBL.png\t  XCOG.png\r\n",
      "BERB.png  DPDC.png\tFRRB.png      mGLM.png\t    PGFD.png\t  XFNE.png\r\n",
      "BERE.png  DPEB.png\tFSmR.png      mHAC.png\t    PGPB.png\t  XFSD.png\r\n",
      "BFBA.png  DPED (2).png\tGALR.png      mHmn.png\t    PGRB.png\t  XHmm.png\r\n",
      "BFBG.png  DPED.png\tGBAO.png      mHnH.png\t    PGRD.png\t  XHmy.png\r\n",
      "BFCE.png  DQDK.png\tGBCF.png      mHYH.png\t    PHAP.png\t  XHWG.png\r\n",
      "bfde.png  DQwT.png\tGBDB.png      mKQh.png\t    PHRL.png\t  xHXy.png\r\n",
      "BFED.png  DRBC.png\tGBDC.png      mLDQ.png\t    PmoQ.png\t  xHYm.png\r\n",
      "BFGD.png  DRDG.png\tGBEB.png      mLMX.png\t    PNFG.png\t  XKHD.png\r\n",
      "BGBF.png  DREG.png\tGBEH.png      MLWS.png\t    PnZN.png\t  XmHY.png\r\n",
      "BGDD.png  DREO.png\tGBER.png      mMNy.png\t    pocB.png\t  XmnY.png\r\n",
      "BGLO.png  DRFB.png\tGCBC.png      mMYW.png\t    PODP.png\t  XNHH.png\r\n",
      "BGmH.png  DRFD.png\tGCEE.png      mnmH.png\t    POEB.png\t  XnmY.png\r\n",
      "BHFD.png  DRMQ.png\tGCLQ.png      mnYW.png\t    PQAD.png\t  XNXH.png\r\n",
      "BHQD.png  DRNR.png\tGDBD.png      mpbA.png\t    PqLE.png\t  XNyX.png\r\n",
      "BKQB.png  DRRR.png\tGDBE.png      MPFX.png\t    PRBP.png\t  XNYY.png\r\n",
      "BKRO.png  DSEA.png\tGDDN.png      mQFQ.png\t    PRDF.png\t  XOAz.png\r\n",
      "BmAn.png  DTBB.png\tGDFD.png      Mqgm.png\t    PREE.png\t  XPEB.png\r\n",
      "BmLD.png  DTBO.png\tGEBB.png      MQXZ.png\t    PRGP.png\t  XQDH.png\r\n",
      "BMRC.png  DwLD.png\tGEDG (2).png  mTLW.png\t    PSAA.png\t  XQHE.png\r\n",
      "BODD.png  DwRD.png\tGEDG.png      MTnZ.png\t    PSFS.png\t  XQSA.png\r\n",
      "BOEF.png  DwTL.png\tGEDZ.png      mWHy.png\t    pTAC.png\t  XRHD.png\r\n",
      "BOEG.png  DXAN.png\tGEFC.png      MWnH.png\t    pwAB.png\t  XTZC.png\r\n",
      "BOFD.png  DZCG.png\tGEHF.png      mwnx.png\t    QARF.png\t  XWmH.png\r\n",
      "BOKN.png  DZwO.png\tGELK.png      mWRK.png\t    QBHm.png\t  xwmN.png\r\n",
      "BOOC.png  EADA.png\tGEPB.png      mWXY.png\t    QBQQ.png\t  XwQH.png\r\n",
      "BORB.png  EBBD.png\tGFCD.png      MWYH.png\t    QCDn.png\t  XyHm.png\r\n",
      "BORP.png  EBBE.png\tGFEC.png      mWyX.png\t    qCPL.png\t  XYmN (2).png\r\n",
      "BPDB.png  EBCB.png\tGFHm.png      mXmX.png\t    QDCC.png\t  XYmN.png\r\n",
      "BPDF.png  EBCG.png\tGFPE.png      MXnH.png\t    QDHS.png\t  XYmX.png\r\n",
      "BPGR.png  EBDB.png\tGGBM.png      mXRq.png\t    QFRG.png\t  XYmY.png\r\n",
      "BPLP.png  EBDE.png\tGGRG.png      MyHN.png\t    QGFB.png\t  XYWn.png\r\n",
      "BPOA.png  EBDO.png\tGHGB.png      mYHY.png\t    QKXS.png\t  XYxH.png\r\n",
      "BQHT.png  EBDS.png\tGHHF.png      mYmn.png\t    QLKD.png\t  XYYH.png\r\n",
      "BQRB.png  EBEB.png\tGHOA.png      MYNH (2).png  QmmB.png\t  YHHy.png\r\n",
      "BqSL.png  EBEF.png\tGKWR.png      MyNH.png\t    QmTS.png\t  YHmH.png\r\n",
      "BRGR.png  EBFP.png\tGLDA.png      mynm (2).png  qnDB.png\t  YHMX.png\r\n",
      "BROF.png  EBGC.png\tGLGG.png      mYnM.png\t    QnKR.png\t  YHnM.png\r\n",
      "BRPG.png  EBGO.png\tGLRz.png      mYnY (2).png  QPAO.png\t  YHNX.png\r\n",
      "BSAG.png  EBOP.png\tGmNH.png      mYny.png\t    QPBH.png\t  yHWY (2).png\r\n",
      "BSQS.png  EBPO.png\tGmRm.png      mYWy.png\t    QQZA.png\t  yHWY.png\r\n",
      "BTWT.png  EBqB.png\tGnGF.png      MyXy.png\t    QqZX.png\t  YHXM.png\r\n",
      "BWEQ.png  EBRE.png\tGNMZ.png      myyH.png\t    QRnT.png\t  YHXN (2).png\r\n",
      "BXBD.png  EBRF.png\tGORB.png      MZLS.png\t    QRQF.png\t  yHXn.png\r\n",
      "BXBQ.png  ECDB.png\tGOTQ.png      mzQT.png\t    QRwT.png\t  yHYH.png\r\n",
      "BXRm.png  ECEC.png\tGPAR.png      NAGR.png\t    QSTG.png\t  YHYN.png\r\n",
      "BYBE.png  ECED (2).png\tGPBD.png      NARF.png\t    QTAT.png\t  YMHX.png\r\n",
      "BZCD.png  ECED.png\tGPBS.png      nAXH.png\t    QTFn.png\t  YMHy.png\r\n",
      "BZHm.png  ECGC.png\tGPGR.png      NAZR.png\t    qTKA.png\t  YmmW.png\r\n",
      "CAnD.png  EDBB.png\tGQLT.png      nCQX.png\t    RABC.png\t  Ymnn.png\r\n",
      "CBDB.png  EDDP.png\tGRCR.png      nDHD.png\t    RABS.png\t  YmNX.png\r\n",
      "CBDD.png  EDFD.png\tGRDE.png      nDLH.png\t    RAHK.png\t  YmXH.png\r\n",
      "CBEB.png  EDGB.png\tGRPT.png      ngHM.png\t    RBCD.png\t  YMXn.png\r\n",
      "CBGR.png  EDGO.png\tGSDS.png      NHKM.png\t    RBCE.png\t  Ymyn.png\r\n",
      "CBPD.png  EDOH.png\tGTqm.png      NHmW.png\t    RBEE.png\t  YNHH.png\r\n",
      "CBXE.png  EDOR.png\tGwAR.png      nHNm.png\t    RBEO.png\t  YNHM (2).png\r\n",
      "CDBC.png  EDqB.png\tGWnH.png      nHwH.png\t    RBFR.png\t  YNHm.png\r\n",
      "CDBF.png  EDRC.png\tGXWR.png      nHwm.png\t    RBZW.png\t  YNHW.png\r\n",
      "CDBG.png  EEBP.png\tGZLB.png      NHWN.png\t    RCBO.png\t  YnMY.png\r\n",
      "CDDB.png  EEBR.png\tHBXC.png      NHYm.png\t    RCDG.png\t  YNNy.png\r\n",
      "CDDF.png  EECF.png\tHCFD.png      nkSD.png\t    RCGD.png\t  YNWH.png\r\n",
      "CDEO.png  EECR.png\tHCqA.png      nKYm.png\t    RCRD.png\t  YNWY.png\r\n",
      "CDER.png  EEDG.png\tHDAC.png      nLER.png\t    RCZO.png\t  YnYH.png\r\n",
      "CDFB.png  EEGC.png\tHDLH.png      nmHY.png\t    RDBE.png\t  YnYn.png\r\n",
      "CDGE.png  EEOD.png\tHDXH.png      nmMw.png\t    RDED.png\t  YnYy.png\r\n",
      "CDRG.png  EEOE.png\tHFZA.png      nmwY.png\t    RDGD.png\t  Ywnm.png\r\n",
      "CEAP.png  EEPB.png\tHHHM.png      nmXG.png\t    REBB.png\t  yWYH.png\r\n",
      "CECB.png  EERO.png\tHHLP.png      NmXm.png\t    REBP.png\t  YWYW.png\r\n",
      "CECD.png  EFGE.png\tHHnH.png      nmyM.png\t    REGP.png\t  YXHN.png\r\n",
      "CEEB.png  EFRG.png\tHHWH.png      NmYY.png\t    REOB.png\t  YXWX.png\r\n",
      "CEGE.png  EFSG.png\tHHwx.png      NNmX.png\t    REOD.png\t  yxYH.png\r\n",
      "CEOB.png  EGBD.png\tHHyH.png      NnmY.png\t    REOE.png\t  yXYn.png\r\n",
      "CERD.png  EGBE.png\tHHyX.png      nnNW.png\t    REPD (2).png  YYHM.png\r\n",
      "CFDP.png  EGCD.png\tHHyY.png      nnYH.png\t    REPD.png\t  YYmH.png\r\n",
      "CFnR.png  EGCF.png\tHLOK.png      nNYn.png\t    REPE.png\t  YYNH.png\r\n",
      "CFPC.png  EGED.png\tHLOX.png      NPEX.png\t    REXE.png\t  YYWm.png\r\n",
      "CGDE.png  EGEO.png\tHmcz.png      NPHA.png\t    RFDB.png\t  yYxn.png\r\n",
      "CGED.png  EGFD.png\tHmGX.png      npnn.png\t    RFDO.png\t  YYXy.png\r\n",
      "CGEG.png  EGQD.png\tHmMP.png      nqLC.png\t    RFOF.png\t  YYYN.png\r\n",
      "CKBP.png  EGRD.png\tHmnH.png      NSTX.png\t    RGBA.png\t  ZAHT.png\r\n",
      "CKFZ.png  ELNT.png\tHmNn (2).png  NwHm.png\t    RGBG.png\t  ZAOP.png\r\n",
      "CLBQ.png  EMPC.png\tHmNn.png      NWHn.png\t    RGFP.png\t  ZBHX.png\r\n",
      "cmDB.png  EODF.png\tHmNy.png      nWnH.png\t    RGGQ.png\t  ZBmG.png\r\n",
      "cnFE.png  EODO.png\tHmwN.png      Nwno.png\t    RHFB.png\t  ZBQW.png\r\n",
      "CODG.png  EOER.png\tHmYX.png      NWXY.png\t    RHFD.png\t  ZCXS.png\r\n",
      "CPRD.png  EOPZ.png\tHnGw.png      nXDX.png\t    RHST.png\t  zDLG.png\r\n",
      "CRDC.png  EPBE.png\tHnmH.png      nXHX.png\t    RKXG.png\t  ZESF.png\r\n",
      "CREB.png  EPEC.png\tHnmN.png      NXNM.png\t    RLOP.png\t  ZEXD.png\r\n",
      "CRLF.png  EPED.png\tHNmY.png      NXYm.png\t    RmxT.png\t  ZGFO.png\r\n",
      "CROB.png  EPOD.png\tHNXy.png      nYHn.png\t    RNBT.png\t  ZHBG.png\r\n",
      "CXRZ.png  EqBX.png\tHnYH.png      nyHW.png\t    ROBC.png\t  ZHGX.png\r\n",
      "DAED.png  EQEL.png\tHnYm.png      NYHX.png\t    ROEG.png\t  ZKGC.png\r\n",
      "DAmZ.png  EQPC.png\tHnYX.png      NYHy.png\t    ROEO.png\t  ZLTR.png\r\n",
      "DANH.png  EQWH.png\tHnYy.png      nYMm.png\t    RPBE.png\t  ZmHQ.png\r\n",
      "DAOB.png  ERBR.png\tHQFH.png      nYYH.png\t    RPBP.png\t  ZmSX.png\r\n",
      "DAXP.png  ERDE (2).png\tHQZH.png      NYyN.png\t    RPGD.png\t  ZnBX.png\r\n",
      "DBDF.png  ERDE.png\tHROB.png      nyYW.png\t    RPRO.png\t  ZPEF.png\r\n",
      "DBEC.png  ERED.png\tHSQA.png      OBDO.png\t    RTQm.png\t  ZQHC.png\r\n",
      "DBFG.png  ErEG.png\tHTmN.png      OBEA.png\t    RXAm.png\t  ZRAS.png\r\n",
      "DBFP.png  ERFE.png\tHWnm.png      OBEO.png\t    RXMZ.png\t  ZSNC.png\r\n",
      "DBOB.png  ERGB.png\tHXBE.png      OBFD.png\t    sCAF.png\r\n",
      "dboc.png  ERGE.png\tHXmH (2).png  OBFR.png\t    SCPH.png\r\n"
     ]
    }
   ],
   "source": [
    "!ls sample"
   ]
  },
  {
   "cell_type": "code",
   "execution_count": null,
   "metadata": {
    "collapsed": true
   },
   "outputs": [],
   "source": []
  }
 ],
 "metadata": {
  "kernelspec": {
   "display_name": "Python 2",
   "language": "python",
   "name": "python2"
  },
  "language_info": {
   "codemirror_mode": {
    "name": "ipython",
    "version": 2
   },
   "file_extension": ".py",
   "mimetype": "text/x-python",
   "name": "python",
   "nbconvert_exporter": "python",
   "pygments_lexer": "ipython2",
   "version": "2.7.13"
  }
 },
 "nbformat": 4,
 "nbformat_minor": 2
}
